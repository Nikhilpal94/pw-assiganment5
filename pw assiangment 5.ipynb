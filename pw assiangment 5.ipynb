{
 "cells": [
  {
   "cell_type": "markdown",
   "id": "470060a8",
   "metadata": {},
   "source": [
    "# 1-Who Developed the python programming language?"
   ]
  },
  {
   "cell_type": "markdown",
   "id": "445f76a4",
   "metadata": {},
   "source": [
    "Ans-Guido Van Rossum"
   ]
  },
  {
   "cell_type": "markdown",
   "id": "ad345039",
   "metadata": {},
   "source": [
    "# 2-Which type of programming does python support?"
   ]
  },
  {
   "cell_type": "markdown",
   "id": "5b59e8aa",
   "metadata": {},
   "source": [
    "Ans-Object oriented programing and structured programing"
   ]
  },
  {
   "cell_type": "markdown",
   "id": "b7253d4e",
   "metadata": {},
   "source": [
    "# 3-is python case sensitive when dealing with identifier?"
   ]
  },
  {
   "cell_type": "markdown",
   "id": "0dc28250",
   "metadata": {},
   "source": [
    "Ans-yes it is a case sensitive"
   ]
  },
  {
   "cell_type": "markdown",
   "id": "f37035fc",
   "metadata": {},
   "source": [
    "# 4-what is the correct extension of python file?\n"
   ]
  },
  {
   "cell_type": "markdown",
   "id": "3bf6f3eb",
   "metadata": {},
   "source": [
    "Ans-Py(Extension)"
   ]
  },
  {
   "cell_type": "markdown",
   "id": "1583e3a1",
   "metadata": {},
   "source": [
    "# 5-is python code compiled or interpreted ?"
   ]
  },
  {
   "cell_type": "markdown",
   "id": "daf5596b",
   "metadata": {},
   "source": [
    "Ans-Python is an interpreted language, which means the source code of a Python program is converted into bytecode that is then executed by the Python virtual machine"
   ]
  },
  {
   "cell_type": "markdown",
   "id": "1a094a37",
   "metadata": {},
   "source": [
    "# 6-Name a few blocks of code used to define in Python language?"
   ]
  },
  {
   "cell_type": "markdown",
   "id": "84d8799e",
   "metadata": {},
   "source": [
    "Ans-Python uses indentation to define blocks of code. Indentations are simply spaces or tabs used as an indicator that is part of the indent code child.\n",
    "\n",
    "if (condition):\n",
    "\n",
    "# Statement 1\n",
    "\n",
    "else:\n",
    "\n",
    "# Statement 2\n",
    "You will find that statements 1 will have the same indentation and therefore is of the same block. And similarly, statements 2 is of a another block."
   ]
  },
  {
   "cell_type": "markdown",
   "id": "5c259336",
   "metadata": {},
   "source": [
    "# 7-State a character used to give single-line comments in Python?"
   ]
  },
  {
   "cell_type": "markdown",
   "id": "e34838da",
   "metadata": {},
   "source": [
    "Ans-' # ' symbol to write a single-line comment."
   ]
  },
  {
   "cell_type": "markdown",
   "id": "61a9ca10",
   "metadata": {},
   "source": [
    "# 8-Mention functions which can help us to find the version of python that we are currently working on?"
   ]
  },
  {
   "cell_type": "markdown",
   "id": "265a336f",
   "metadata": {},
   "source": [
    "Ans-The function sys.version can help us to find the version of python that we are currently working on."
   ]
  },
  {
   "cell_type": "markdown",
   "id": "c7816dc3",
   "metadata": {},
   "source": [
    "# 9-Python supports the creation of anonymous functions at runtime, using a construct called"
   ]
  },
  {
   "cell_type": "markdown",
   "id": "8a699d2b",
   "metadata": {},
   "source": [
    "Ans-Lambda"
   ]
  },
  {
   "cell_type": "markdown",
   "id": "396fbbb1",
   "metadata": {},
   "source": [
    "# 10-What does pip stand for python?"
   ]
  },
  {
   "cell_type": "markdown",
   "id": "0977f6d3",
   "metadata": {},
   "source": [
    "Ans-Preferred Installer Program"
   ]
  },
  {
   "cell_type": "markdown",
   "id": "b80bdbe6",
   "metadata": {},
   "source": [
    "# 11-Mention a few built- in functions in python?"
   ]
  },
  {
   "cell_type": "markdown",
   "id": "ae0abda9",
   "metadata": {},
   "source": [
    "Ans-bool()\n",
    "This function takes a value as an argument and returns either True or False. It gives True if the value is not empty/zero/False. Or else it returns False.\n",
    "\n",
    "chr()\n",
    "This function takes the Unicode value as an input and returns the respective character.\n",
    "\n",
    "dict()\n",
    "This function converts the input into the dictionary data type and returns it."
   ]
  },
  {
   "cell_type": "markdown",
   "id": "310f9392",
   "metadata": {},
   "source": [
    "# 12-What is the maximum possible length of an identifier in Python?"
   ]
  },
  {
   "cell_type": "markdown",
   "id": "d9df789c",
   "metadata": {},
   "source": [
    "Ans-79 characters"
   ]
  },
  {
   "cell_type": "markdown",
   "id": "be12f3bf",
   "metadata": {},
   "source": [
    "# 13-What are the benefits of using Python?"
   ]
  },
  {
   "cell_type": "raw",
   "id": "8f64c0ea",
   "metadata": {},
   "source": [
    "Ans-Simple and Easy to learn\n",
    "2.Portable and Extensible\n",
    "3.Object-Oriented Programming\n",
    "4.Artificial Intelligence\n",
    "5.Big Data\n",
    "Python can handle plenty of an immense amount of data."
   ]
  },
  {
   "cell_type": "code",
   "execution_count": 5,
   "id": "63a28b32",
   "metadata": {},
   "outputs": [
    {
     "name": "stdout",
     "output_type": "stream",
     "text": [
      "Object `Python` not found.\n"
     ]
    }
   ],
   "source": [
    "14-How is memory managed in Python?"
   ]
  },
  {
   "cell_type": "markdown",
   "id": "23ea3fee",
   "metadata": {},
   "source": [
    "# 14-How is memory managed in Python"
   ]
  },
  {
   "cell_type": "markdown",
   "id": "b82f9eac",
   "metadata": {},
   "source": [
    "Ans-Memory in Python is managed by Python private heap space. All Python objects and data structures are located in a private heap. This private heap is taken care of by Python Interpreter itself, and a programmer doesn’t have access to this private heap. Python memory manager takes care of the allocation of Python private heap space. Memory for Python private heap space is made available by Python’s in-built garbage collector, which recycles and frees up all the unused memory. The allocation of heap space for Python objects and other internal buffers is performed on demand by the Python memory manager through the Python/C API functions listed in this document. To avoid memory corruption, extension writers should never try to operate on Python objects with the functions exported by the C library: malloc(), calloc(), realloc() and free()."
   ]
  },
  {
   "cell_type": "markdown",
   "id": "51136123",
   "metadata": {},
   "source": [
    "# 15-How to install Python on Windows and set path variables"
   ]
  },
  {
   "cell_type": "markdown",
   "id": "17f2d846",
   "metadata": {},
   "source": [
    "ans-first, we need to locate where the python is being installed after downloading it. Press WINDOWS key and search for “Python”, you will get something like this:Click on open file location and you will be in a location where Python is installed, Copy the location path from the top by clicking over it. Now, we have to add the above-copied path as a variable so that windows can recognize. Search for “Environmental Variables”, you will see something like this: Click on that( Now click the “Environmental Variables” button"
   ]
  },
  {
   "cell_type": "markdown",
   "id": "7793398e",
   "metadata": {},
   "source": [
    "# 16-is indentation is required for the python?"
   ]
  },
  {
   "cell_type": "markdown",
   "id": "f32c9fa9",
   "metadata": {},
   "source": [
    "Ans-Indentation refers to the spaces at the beginning of a code line. Where in other programming languages the indentation in code is for readability only, for Python is very important. Python uses indentation to indicate a block of code"
   ]
  },
  {
   "cell_type": "code",
   "execution_count": null,
   "id": "57bcfc37",
   "metadata": {},
   "outputs": [],
   "source": []
  }
 ],
 "metadata": {
  "kernelspec": {
   "display_name": "Python 3 (ipykernel)",
   "language": "python",
   "name": "python3"
  },
  "language_info": {
   "codemirror_mode": {
    "name": "ipython",
    "version": 3
   },
   "file_extension": ".py",
   "mimetype": "text/x-python",
   "name": "python",
   "nbconvert_exporter": "python",
   "pygments_lexer": "ipython3",
   "version": "3.9.12"
  }
 },
 "nbformat": 4,
 "nbformat_minor": 5
}
